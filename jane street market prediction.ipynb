{
 "cells": [
  {
   "attachments": {
    "image.png": {
     "image/png": "[encoded data removed]"
    }
   },
   "cell_type": "markdown",
   "metadata": {},
   "source": [
    "### Jane Street Market Prediction\n",
    "\n",
    "Jane Street Prediction은 전문 주식 및 금융 상품 투자 회사로 투자를 개선시키기 위해서 이번 공모전을 진행\n",
    "\n",
    "#### 1. 평가 방법\n",
    "![image.png](attachment:image.png)\n",
    "\n",
    "트레이딩 기회가 유효한 건인지 아닌지 판단해서\n",
    "유효한 건이면 1를 산출, 아니면 0을 산출해서 결과값을 전송\n",
    "\n",
    "#### 2. 기간\n",
    "~ 2021년 15일까지 진행\n",
    "\n",
    "#### 3. 데이터 구성\n",
    "- train.csv: 학습 데이터\n",
    "- example_test.csv: 숨김 테스트 파일 셋\n",
    "- example_sample_submission: 제출 파일\n",
    "- features.csv: 데이터 컬럼들의 속성을 담고 있는 메타데이터"
   ]
  },
  {
   "cell_type": "markdown",
   "metadata": {},
   "source": [
    "### 1. 패키지 및 데이터 불러오기"
   ]
  },
  {
   "cell_type": "code",
   "execution_count": 2,
   "metadata": {},
   "outputs": [],
   "source": [
    "## 패키지 호출\n",
    "\n",
    "import pandas as pd\n",
    "import numpy as np\n",
    "#from pandas_profiling import ProfileReport"
   ]
  },
  {
   "cell_type": "code",
   "execution_count": null,
   "metadata": {},
   "outputs": [],
   "source": [
    "## 데이터 경로 설정\n",
    "path= \"C:/Users/User/Desktop/kaggle_competition/src/\"\n",
    "\n",
    "## 데이터 호출\n",
    "train_dt= pd.read_csv(path+\"train.csv\")\n",
    "feature_dt= pd.read_csv(path+\"features.csv\")\n",
    "test_dt= pd.read_csv(path+\"example_test.csv\")\n",
    "submission_dt= pd.read_csv(path+\"example_sample_submission.csv\")"
   ]
  },
  {
   "cell_type": "markdown",
   "metadata": {},
   "source": [
    "### 2. EDA"
   ]
  },
  {
   "cell_type": "code",
   "execution_count": null,
   "metadata": {},
   "outputs": [],
   "source": [
    "train_dt.head()"
   ]
  },
  {
   "cell_type": "code",
   "execution_count": null,
   "metadata": {},
   "outputs": [],
   "source": [
    "train_dt.describe()"
   ]
  },
  {
   "cell_type": "markdown",
   "metadata": {},
   "source": [
    "### 데이터 컬럼 정리\n",
    "\n",
    "- feature 0~129: 주식 데이터 항목들 (정보 보호로 인해 데이터 속성은 표기 안함)\n",
    "- resp, weight: 거래로 인해 발생하는 return을 나타내는 정보\n",
    "- ts_id: 타임 정보\n",
    "- action: 타겟 밸류로 1은 거래가 된 것, 0은 거래 실패로 분류"
   ]
  },
  {
   "cell_type": "code",
   "execution_count": null,
   "metadata": {},
   "outputs": [],
   "source": [
    "train_dt.columns"
   ]
  },
  {
   "cell_type": "code",
   "execution_count": null,
   "metadata": {},
   "outputs": [],
   "source": [
    "import matplotlib.pyplot as plt\n",
    "\n",
    "fig, ax= plt.subplots(figsize=(15,5))\n",
    "balance= pd.Series(train_dt['resp']).cumsum()\n",
    "ax.set_xlabel(\"Trade\", fontsize=18)\n",
    "ax.set_ylabel(\"Cumulative resp\",fontsize=18)\n",
    "balance.plot(lw=3)\n",
    "del balance\n",
    "gc.collect()"
   ]
  },
  {
   "cell_type": "code",
   "execution_count": 10,
   "metadata": {},
   "outputs": [
    {
     "data": {
      "text/plain": [
       "0          0.006270\n",
       "1         -0.009792\n",
       "2          0.023970\n",
       "3         -0.003200\n",
       "4         -0.002604\n",
       "             ...   \n",
       "2390486    0.015396\n",
       "2390487   -0.004718\n",
       "2390488    0.016591\n",
       "2390489   -0.002004\n",
       "2390490   -0.001905\n",
       "Name: resp, Length: 2390491, dtype: float64"
      ]
     },
     "execution_count": 10,
     "metadata": {},
     "output_type": "execute_result"
    }
   ],
   "source": [
    "train_dt['resp']"
   ]
  },
  {
   "cell_type": "code",
   "execution_count": null,
   "metadata": {},
   "outputs": [],
   "source": []
  }
 ],
 "metadata": {
  "kernelspec": {
   "display_name": "Python 3",
   "language": "python",
   "name": "python3"
  },
  "language_info": {
   "codemirror_mode": {
    "name": "ipython",
    "version": 3
   },
   "file_extension": ".py",
   "mimetype": "text/x-python",
   "name": "python",
   "nbconvert_exporter": "python",
   "pygments_lexer": "ipython3",
   "version": "3.7.3"
  }
 },
 "nbformat": 4,
 "nbformat_minor": 2
}
